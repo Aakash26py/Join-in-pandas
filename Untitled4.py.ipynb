{
 "cells": [
  {
   "cell_type": "markdown",
   "id": "5e7e40d7",
   "metadata": {},
   "source": [
    "Pandas is an open source Python package that is most widely used for data science/data analysis and machine learning tasks. It is built on top of another package named Numpy, which provides support for multi-dimensional arrays"
   ]
  },
  {
   "cell_type": "code",
   "execution_count": 10,
   "id": "73d77740",
   "metadata": {},
   "outputs": [
    {
     "name": "stdout",
     "output_type": "stream",
     "text": [
      "  Reg_no Result1\n",
      "0     11      77\n",
      "1     12      79\n",
      "2     13      96\n",
      "3     14      38\n",
      "4     15      54\n",
      "5     16      69\n"
     ]
    }
   ],
   "source": [
    "import pandas as pd\n",
    "\n",
    "info1 = pd.DataFrame({'Reg_no': ['11', '12', '13', '14', '15', '16'],\n",
    "'Result1': ['77', '79', '96', '38', '54', '69']})\n",
    "print(info1)\n"
   ]
  },
  {
   "cell_type": "code",
   "execution_count": 11,
   "id": "73c85b38",
   "metadata": {},
   "outputs": [
    {
     "name": "stdout",
     "output_type": "stream",
     "text": [
      "  Reg_no Result2\n",
      "0     11      72\n",
      "1     12      82\n",
      "2     13      92\n"
     ]
    }
   ],
   "source": [
    "info2 = pd.DataFrame({'Reg_no': ['11', '12', '13'],\n",
    "'Result2': ['72', '82', '92']})\n",
    "print(info2)"
   ]
  },
  {
   "cell_type": "markdown",
   "id": "b5d643ce",
   "metadata": {},
   "source": [
    "# left join"
   ]
  },
  {
   "cell_type": "code",
   "execution_count": 12,
   "id": "8837b374",
   "metadata": {},
   "outputs": [
    {
     "name": "stdout",
     "output_type": "stream",
     "text": [
      "  Reg_no Result1 Result2\n",
      "0     11      77      72\n",
      "1     12      79      82\n",
      "2     13      96      92\n",
      "3     14      38     NaN\n",
      "4     15      54     NaN\n",
      "5     16      69     NaN\n"
     ]
    }
   ],
   "source": [
    "final_info = info1.join(info2.set_index('Reg_no'), how='left', on=\"Reg_no\")\n",
    "print(final_info)"
   ]
  },
  {
   "cell_type": "markdown",
   "id": "9c0a7894",
   "metadata": {},
   "source": [
    "# right join"
   ]
  },
  {
   "cell_type": "code",
   "execution_count": 13,
   "id": "ddd26935",
   "metadata": {},
   "outputs": [
    {
     "name": "stdout",
     "output_type": "stream",
     "text": [
      "  Reg_no Result1 Result2\n",
      "0     11      77      72\n",
      "1     12      79      82\n",
      "2     13      96      92\n"
     ]
    }
   ],
   "source": [
    "final_info = info1.join(info2.set_index('Reg_no'), how='right', on=\"Reg_no\")\n",
    "print(final_info)"
   ]
  },
  {
   "cell_type": "markdown",
   "id": "e554d322",
   "metadata": {},
   "source": [
    "# inner join"
   ]
  },
  {
   "cell_type": "code",
   "execution_count": 14,
   "id": "3df8237f",
   "metadata": {},
   "outputs": [
    {
     "name": "stdout",
     "output_type": "stream",
     "text": [
      "  Reg_no Result1 Result2\n",
      "0     11      77      72\n",
      "1     12      79      82\n",
      "2     13      96      92\n"
     ]
    }
   ],
   "source": [
    "final_info = info1.join(info2.set_index('Reg_no'), how='inner', on=\"Reg_no\")\n",
    "print(final_info)"
   ]
  },
  {
   "cell_type": "markdown",
   "id": "67c6de5f",
   "metadata": {},
   "source": [
    "# outer join"
   ]
  },
  {
   "cell_type": "code",
   "execution_count": 15,
   "id": "9da6d456",
   "metadata": {},
   "outputs": [
    {
     "name": "stdout",
     "output_type": "stream",
     "text": [
      "  Reg_no Result1 Result2\n",
      "0     11      77      72\n",
      "1     12      79      82\n",
      "2     13      96      92\n",
      "3     14      38     NaN\n",
      "4     15      54     NaN\n",
      "5     16      69     NaN\n"
     ]
    }
   ],
   "source": [
    "final_info = info1.join(info2.set_index('Reg_no'), how='outer', on=\"Reg_no\")\n",
    "print(final_info)"
   ]
  },
  {
   "cell_type": "code",
   "execution_count": null,
   "id": "ba47c2db",
   "metadata": {},
   "outputs": [],
   "source": []
  }
 ],
 "metadata": {
  "kernelspec": {
   "display_name": "Python 3 (ipykernel)",
   "language": "python",
   "name": "python3"
  },
  "language_info": {
   "codemirror_mode": {
    "name": "ipython",
    "version": 3
   },
   "file_extension": ".py",
   "mimetype": "text/x-python",
   "name": "python",
   "nbconvert_exporter": "python",
   "pygments_lexer": "ipython3",
   "version": "3.9.5"
  }
 },
 "nbformat": 4,
 "nbformat_minor": 5
}
